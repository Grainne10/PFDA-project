{
 "cells": [
  {
   "cell_type": "markdown",
   "metadata": {},
   "source": [
    "# Programming for Data Analytics in the Higher Diploma in Science in Data Analytics.\n",
    "\n",
    "## Project_Superstore\n",
    "\n",
    "**by Grainne Boyle**\n",
    "\n",
    "This notebook contains a project that demonstrates what I have learned in this module."
   ]
  },
  {
   "cell_type": "code",
   "execution_count": 1,
   "metadata": {},
   "outputs": [],
   "source": [
    "import pandas as pd \n",
    "import matplotlib.pyplot as plt\n",
    "import numpy as np\n",
    "import seaborn as sns\n",
    "import datetime\n",
    "#To ignore warnings, re: the figure layout changes, we import the warnings module.  \n",
    "import warnings\n",
    "warnings.filterwarnings('ignore')\n"
   ]
  },
  {
   "cell_type": "code",
   "execution_count": 2,
   "metadata": {},
   "outputs": [],
   "source": [
    "# I had difficulty reading in the file, I was getting an error. I used chardet, a library that can detect file encodings.\n",
    "\n",
    "#The file looked okay but there may have been unreadable characters, meaning the file was encoded with one format and the application is trying to read it using a different encoding format.\n",
    "import chardet  # This imports a library that can detect file encodings\n",
    "\n",
    "# Opens your file in binary mode ('rb') to read the raw bytes\n",
    "with open('sample_superstore.csv', 'rb') as file:\n",
    "    raw_data = file.read()  # Reads the entire file as raw bytes\n",
    "    result = chardet.detect(raw_data)  # Analyzes the bytes to guess the encoding\n",
    "    encoding = result['encoding']  # Gets the detected encoding type\n",
    "    \n",
    "# Uses the detected encoding to read the CSV file correctly. I used Chatgpt to find out how to encode the file and this solution was suitable.\n",
    "storedf = pd.read_csv('sample_superstore.csv', encoding=encoding)"
   ]
  },
  {
   "cell_type": "code",
   "execution_count": 3,
   "metadata": {},
   "outputs": [
    {
     "name": "stdout",
     "output_type": "stream",
     "text": [
      "   Row ID        Order ID  Order Date   Ship Date       Ship Mode Customer ID  \\\n",
      "0       1  CA-2016-152156   11/8/2016  11/11/2016    Second Class    CG-12520   \n",
      "1       2  CA-2016-152156   11/8/2016  11/11/2016    Second Class    CG-12520   \n",
      "2       3  CA-2016-138688   6/12/2016   6/16/2016    Second Class    DV-13045   \n",
      "3       4  US-2015-108966  10/11/2015  10/18/2015  Standard Class    SO-20335   \n",
      "4       5  US-2015-108966  10/11/2015  10/18/2015  Standard Class    SO-20335   \n",
      "\n",
      "     Customer Name    Segment        Country             City  ...  \\\n",
      "0      Claire Gute   Consumer  United States        Henderson  ...   \n",
      "1      Claire Gute   Consumer  United States        Henderson  ...   \n",
      "2  Darrin Van Huff  Corporate  United States      Los Angeles  ...   \n",
      "3   Sean O'Donnell   Consumer  United States  Fort Lauderdale  ...   \n",
      "4   Sean O'Donnell   Consumer  United States  Fort Lauderdale  ...   \n",
      "\n",
      "  Postal Code  Region       Product ID         Category Sub-Category  \\\n",
      "0       42420   South  FUR-BO-10001798        Furniture    Bookcases   \n",
      "1       42420   South  FUR-CH-10000454        Furniture       Chairs   \n",
      "2       90036    West  OFF-LA-10000240  Office Supplies       Labels   \n",
      "3       33311   South  FUR-TA-10000577        Furniture       Tables   \n",
      "4       33311   South  OFF-ST-10000760  Office Supplies      Storage   \n",
      "\n",
      "                                        Product Name     Sales  Quantity  \\\n",
      "0                  Bush Somerset Collection Bookcase  261.9600         2   \n",
      "1  Hon Deluxe Fabric Upholstered Stacking Chairs,...  731.9400         3   \n",
      "2  Self-Adhesive Address Labels for Typewriters b...   14.6200         2   \n",
      "3      Bretford CR4500 Series Slim Rectangular Table  957.5775         5   \n",
      "4                     Eldon Fold 'N Roll Cart System   22.3680         2   \n",
      "\n",
      "   Discount    Profit  \n",
      "0      0.00   41.9136  \n",
      "1      0.00  219.5820  \n",
      "2      0.00    6.8714  \n",
      "3      0.45 -383.0310  \n",
      "4      0.20    2.5164  \n",
      "\n",
      "[5 rows x 21 columns]\n"
     ]
    }
   ],
   "source": [
    "print(storedf.head())"
   ]
  },
  {
   "cell_type": "code",
   "execution_count": 4,
   "metadata": {},
   "outputs": [],
   "source": [
    "# Change the columns to datetime\n",
    "storedf['Order Date'] = pd.to_datetime(storedf['Order Date'], format='%m/%d/%Y')\n",
    "storedf['Ship Date'] = pd.to_datetime(storedf['Ship Date'], format='%m/%d/%Y') "
   ]
  },
  {
   "cell_type": "code",
   "execution_count": 5,
   "metadata": {},
   "outputs": [],
   "source": [
    "# From viewing the data in excel, I decided to remove the following columns as there was either too much detail to analyse, e.g Customer ID or not enough varied detail , e.g Country is only United States.  \n",
    "storedf = storedf.drop(columns=['Row ID', 'Order ID', 'Customer ID', 'Customer Name', 'Country', 'Postal Code', 'Product ID'])"
   ]
  },
  {
   "cell_type": "code",
   "execution_count": 6,
   "metadata": {},
   "outputs": [],
   "source": [
    "# after viewing in excel, I thought about what columns I could add to broaden my analysis:\n",
    "\n",
    "# This added a column that calculates the time taken to process the order, how many days after the order was taken before it shipped. \n",
    "storedf.insert(loc=2, column='Order Processing Days', value=(storedf['Ship Date'] - storedf['Order Date']).dt.days)\n",
    "\n",
    "# This enters a column that shows the month only so I can see if there are higher or lower sales in certain months.\n",
    "\n",
    "storedf.insert(loc=3, column='Month', value=storedf['Order Date'].dt.month)\n",
    "\n",
    "# This enters a column that shows the year only. \n",
    "storedf.insert(loc=4, column='Year', value=storedf['Order Date'].dt.year)\n",
    " \n",
    "\n",
    "# This enters a column that shows the gross  as a percentage of sales.\n",
    "\n",
    "storedf['Profit Margin (%)'] = (storedf['Profit'] / storedf['Sales']) * 100\n",
    "\n",
    "# Note - I am assuming the sales figure is after the discount has been given. \n",
    "# This enters a column showing the sales price per unit(assuming after the discount)\n",
    "\n",
    "storedf.insert(loc=15, column='SP per unit', value= (storedf['Sales'] / storedf['Quantity']))\n",
    "\n",
    "# I am creating a function to create the final column. This column will classify the sales price per unit into a low,medium or high value category.  \n",
    "def sales_cat(value):\n",
    "    if value < 100:\n",
    "        return \"Low value\"\n",
    "    elif value > 1000:\n",
    "        return \"High value\"\n",
    "    else:\n",
    "        return \"Medium value\"\n",
    "    \n",
    "storedf['Sales Category'] = storedf['SP per unit'].apply(sales_cat)\n",
    "\n",
    "\n",
    "\n"
   ]
  },
  {
   "cell_type": "code",
   "execution_count": 19,
   "metadata": {},
   "outputs": [],
   "source": [
    "\n",
    "# Setting the format of the numerical columns:def set_display_format():\n",
    "def set_display_format():\n",
    "    pd.set_option('display.float_format', '{:,.2f}'.format)\n",
    "\n",
    "# Call the function at the start of your script\n",
    "set_display_format()"
   ]
  },
  {
   "cell_type": "code",
   "execution_count": 20,
   "metadata": {},
   "outputs": [
    {
     "name": "stdout",
     "output_type": "stream",
     "text": [
      "  Order Date  Ship Date  Order Processing Days  Month  Year       Ship Mode  \\\n",
      "0 2016-11-08 2016-11-11                      3     11  2016    Second Class   \n",
      "1 2016-11-08 2016-11-11                      3     11  2016    Second Class   \n",
      "2 2016-06-12 2016-06-16                      4      6  2016    Second Class   \n",
      "3 2015-10-11 2015-10-18                      7     10  2015  Standard Class   \n",
      "4 2015-10-11 2015-10-18                      7     10  2015  Standard Class   \n",
      "\n",
      "     Segment             City       State Region         Category  \\\n",
      "0   Consumer        Henderson    Kentucky  South        Furniture   \n",
      "1   Consumer        Henderson    Kentucky  South        Furniture   \n",
      "2  Corporate      Los Angeles  California   West  Office Supplies   \n",
      "3   Consumer  Fort Lauderdale     Florida  South        Furniture   \n",
      "4   Consumer  Fort Lauderdale     Florida  South  Office Supplies   \n",
      "\n",
      "  Sub-Category                                       Product Name  Sales  \\\n",
      "0    Bookcases                  Bush Somerset Collection Bookcase 261.96   \n",
      "1       Chairs  Hon Deluxe Fabric Upholstered Stacking Chairs,... 731.94   \n",
      "2       Labels  Self-Adhesive Address Labels for Typewriters b...  14.62   \n",
      "3       Tables      Bretford CR4500 Series Slim Rectangular Table 957.58   \n",
      "4      Storage                     Eldon Fold 'N Roll Cart System  22.37   \n",
      "\n",
      "   Quantity  SP per unit  Discount  Profit  Profit Margin (%) Sales Category  \n",
      "0         2       130.98      0.00   41.91              16.00   Medium value  \n",
      "1         3       243.98      0.00  219.58              30.00   Medium value  \n",
      "2         2         7.31      0.00    6.87              47.00      Low value  \n",
      "3         5       191.52      0.45 -383.03             -40.00   Medium value  \n",
      "4         2        11.18      0.20    2.52              11.25      Low value  \n"
     ]
    },
    {
     "data": {
      "text/plain": [
       "(9994, 20)"
      ]
     },
     "execution_count": 20,
     "metadata": {},
     "output_type": "execute_result"
    }
   ],
   "source": [
    "# Next, I preview the data to identify any issues that may arise and pre-process it if necessary.\n",
    "\n",
    "\n",
    "# I run the list again to see what is included now and ensure that it included the columns in the correct locations:  \n",
    "print(storedf.head())\n",
    "\n",
    "# This shows the amount of rows and columns:  \n",
    "storedf.shape\n",
    "\n"
   ]
  },
  {
   "cell_type": "code",
   "execution_count": 21,
   "metadata": {},
   "outputs": [
    {
     "name": "stdout",
     "output_type": "stream",
     "text": [
      "Order Date               datetime64[ns]\n",
      "Ship Date                datetime64[ns]\n",
      "Order Processing Days             int64\n",
      "Month                             int32\n",
      "Year                              int32\n",
      "Ship Mode                        object\n",
      "Segment                          object\n",
      "City                             object\n",
      "State                            object\n",
      "Region                           object\n",
      "Category                         object\n",
      "Sub-Category                     object\n",
      "Product Name                     object\n",
      "Sales                           float64\n",
      "Quantity                          int64\n",
      "SP per unit                     float64\n",
      "Discount                        float64\n",
      "Profit                          float64\n",
      "Profit Margin (%)               float64\n",
      "Sales Category                   object\n",
      "dtype: object\n"
     ]
    }
   ],
   "source": [
    "# This shows the data types, I have converted the date columns to datetime, the other columns contain objects, integers and floats.\n",
    "print(storedf.dtypes)\n"
   ]
  },
  {
   "cell_type": "code",
   "execution_count": 22,
   "metadata": {},
   "outputs": [
    {
     "data": {
      "text/html": [
       "<div>\n",
       "<style scoped>\n",
       "    .dataframe tbody tr th:only-of-type {\n",
       "        vertical-align: middle;\n",
       "    }\n",
       "\n",
       "    .dataframe tbody tr th {\n",
       "        vertical-align: top;\n",
       "    }\n",
       "\n",
       "    .dataframe thead th {\n",
       "        text-align: right;\n",
       "    }\n",
       "</style>\n",
       "<table border=\"1\" class=\"dataframe\">\n",
       "  <thead>\n",
       "    <tr style=\"text-align: right;\">\n",
       "      <th></th>\n",
       "      <th>Order Processing Days</th>\n",
       "      <th>Month</th>\n",
       "      <th>Year</th>\n",
       "      <th>Sales</th>\n",
       "      <th>Quantity</th>\n",
       "      <th>SP per unit</th>\n",
       "      <th>Discount</th>\n",
       "      <th>Profit</th>\n",
       "      <th>Profit Margin (%)</th>\n",
       "    </tr>\n",
       "  </thead>\n",
       "  <tbody>\n",
       "    <tr>\n",
       "      <th>count</th>\n",
       "      <td>9,994.00</td>\n",
       "      <td>9,994.00</td>\n",
       "      <td>9,994.00</td>\n",
       "      <td>9,994.00</td>\n",
       "      <td>9,994.00</td>\n",
       "      <td>9,994.00</td>\n",
       "      <td>9,994.00</td>\n",
       "      <td>9,994.00</td>\n",
       "      <td>9,994.00</td>\n",
       "    </tr>\n",
       "    <tr>\n",
       "      <th>mean</th>\n",
       "      <td>3.96</td>\n",
       "      <td>7.81</td>\n",
       "      <td>2,015.72</td>\n",
       "      <td>229.86</td>\n",
       "      <td>3.79</td>\n",
       "      <td>60.92</td>\n",
       "      <td>0.16</td>\n",
       "      <td>28.66</td>\n",
       "      <td>12.03</td>\n",
       "    </tr>\n",
       "    <tr>\n",
       "      <th>std</th>\n",
       "      <td>1.75</td>\n",
       "      <td>3.28</td>\n",
       "      <td>1.12</td>\n",
       "      <td>623.25</td>\n",
       "      <td>2.23</td>\n",
       "      <td>142.93</td>\n",
       "      <td>0.21</td>\n",
       "      <td>234.26</td>\n",
       "      <td>46.68</td>\n",
       "    </tr>\n",
       "    <tr>\n",
       "      <th>min</th>\n",
       "      <td>0.00</td>\n",
       "      <td>1.00</td>\n",
       "      <td>2,014.00</td>\n",
       "      <td>0.44</td>\n",
       "      <td>1.00</td>\n",
       "      <td>0.34</td>\n",
       "      <td>0.00</td>\n",
       "      <td>-6,599.98</td>\n",
       "      <td>-275.00</td>\n",
       "    </tr>\n",
       "    <tr>\n",
       "      <th>25%</th>\n",
       "      <td>3.00</td>\n",
       "      <td>5.00</td>\n",
       "      <td>2,015.00</td>\n",
       "      <td>17.28</td>\n",
       "      <td>2.00</td>\n",
       "      <td>5.47</td>\n",
       "      <td>0.00</td>\n",
       "      <td>1.73</td>\n",
       "      <td>7.50</td>\n",
       "    </tr>\n",
       "    <tr>\n",
       "      <th>50%</th>\n",
       "      <td>4.00</td>\n",
       "      <td>9.00</td>\n",
       "      <td>2,016.00</td>\n",
       "      <td>54.49</td>\n",
       "      <td>3.00</td>\n",
       "      <td>16.27</td>\n",
       "      <td>0.20</td>\n",
       "      <td>8.67</td>\n",
       "      <td>27.00</td>\n",
       "    </tr>\n",
       "    <tr>\n",
       "      <th>75%</th>\n",
       "      <td>5.00</td>\n",
       "      <td>11.00</td>\n",
       "      <td>2,017.00</td>\n",
       "      <td>209.94</td>\n",
       "      <td>5.00</td>\n",
       "      <td>63.94</td>\n",
       "      <td>0.20</td>\n",
       "      <td>29.36</td>\n",
       "      <td>36.25</td>\n",
       "    </tr>\n",
       "    <tr>\n",
       "      <th>max</th>\n",
       "      <td>7.00</td>\n",
       "      <td>12.00</td>\n",
       "      <td>2,017.00</td>\n",
       "      <td>22,638.48</td>\n",
       "      <td>14.00</td>\n",
       "      <td>3,773.08</td>\n",
       "      <td>0.80</td>\n",
       "      <td>8,399.98</td>\n",
       "      <td>50.00</td>\n",
       "    </tr>\n",
       "  </tbody>\n",
       "</table>\n",
       "</div>"
      ],
      "text/plain": [
       "       Order Processing Days    Month     Year     Sales  Quantity  \\\n",
       "count               9,994.00 9,994.00 9,994.00  9,994.00  9,994.00   \n",
       "mean                    3.96     7.81 2,015.72    229.86      3.79   \n",
       "std                     1.75     3.28     1.12    623.25      2.23   \n",
       "min                     0.00     1.00 2,014.00      0.44      1.00   \n",
       "25%                     3.00     5.00 2,015.00     17.28      2.00   \n",
       "50%                     4.00     9.00 2,016.00     54.49      3.00   \n",
       "75%                     5.00    11.00 2,017.00    209.94      5.00   \n",
       "max                     7.00    12.00 2,017.00 22,638.48     14.00   \n",
       "\n",
       "       SP per unit  Discount    Profit  Profit Margin (%)  \n",
       "count     9,994.00  9,994.00  9,994.00           9,994.00  \n",
       "mean         60.92      0.16     28.66              12.03  \n",
       "std         142.93      0.21    234.26              46.68  \n",
       "min           0.34      0.00 -6,599.98            -275.00  \n",
       "25%           5.47      0.00      1.73               7.50  \n",
       "50%          16.27      0.20      8.67              27.00  \n",
       "75%          63.94      0.20     29.36              36.25  \n",
       "max       3,773.08      0.80  8,399.98              50.00  "
      ]
     },
     "execution_count": 22,
     "metadata": {},
     "output_type": "execute_result"
    }
   ],
   "source": [
    "# This describes the numerical dataset:\n",
    "\n",
    "storedf.describe(include=[np.number])\n",
    "\n",
    "# This is useful as it highlights the main statistics. It would seem that there is no missing data, they all have 9994 rows , I will do another check on this below.   \n",
    "# The order processing days average is 3.95 or 4.  \n",
    "# The average selling price is $60.91 but the std deviation is $142.92 and the minimum is $0.33 showing a significant variability.\n",
    "# Ths highest sales value is $22,638 and the highest selling price per unit is $3,773 which could suggest large outliers compared to the mean.\n",
    "# The average discount is 16%, the minimum is 0% so not all sales are discounted, and the highest discount is 80%.  "
   ]
  },
  {
   "cell_type": "code",
   "execution_count": 24,
   "metadata": {},
   "outputs": [
    {
     "data": {
      "text/html": [
       "<div>\n",
       "<style scoped>\n",
       "    .dataframe tbody tr th:only-of-type {\n",
       "        vertical-align: middle;\n",
       "    }\n",
       "\n",
       "    .dataframe tbody tr th {\n",
       "        vertical-align: top;\n",
       "    }\n",
       "\n",
       "    .dataframe thead th {\n",
       "        text-align: right;\n",
       "    }\n",
       "</style>\n",
       "<table border=\"1\" class=\"dataframe\">\n",
       "  <thead>\n",
       "    <tr style=\"text-align: right;\">\n",
       "      <th></th>\n",
       "      <th>Ship Mode</th>\n",
       "      <th>Segment</th>\n",
       "      <th>City</th>\n",
       "      <th>State</th>\n",
       "      <th>Region</th>\n",
       "      <th>Category</th>\n",
       "      <th>Sub-Category</th>\n",
       "      <th>Product Name</th>\n",
       "      <th>Sales Category</th>\n",
       "    </tr>\n",
       "  </thead>\n",
       "  <tbody>\n",
       "    <tr>\n",
       "      <th>count</th>\n",
       "      <td>9994</td>\n",
       "      <td>9994</td>\n",
       "      <td>9994</td>\n",
       "      <td>9994</td>\n",
       "      <td>9994</td>\n",
       "      <td>9994</td>\n",
       "      <td>9994</td>\n",
       "      <td>9994</td>\n",
       "      <td>9994</td>\n",
       "    </tr>\n",
       "    <tr>\n",
       "      <th>unique</th>\n",
       "      <td>4</td>\n",
       "      <td>3</td>\n",
       "      <td>531</td>\n",
       "      <td>49</td>\n",
       "      <td>4</td>\n",
       "      <td>3</td>\n",
       "      <td>17</td>\n",
       "      <td>1850</td>\n",
       "      <td>3</td>\n",
       "    </tr>\n",
       "    <tr>\n",
       "      <th>top</th>\n",
       "      <td>Standard Class</td>\n",
       "      <td>Consumer</td>\n",
       "      <td>New York City</td>\n",
       "      <td>California</td>\n",
       "      <td>West</td>\n",
       "      <td>Office Supplies</td>\n",
       "      <td>Binders</td>\n",
       "      <td>Staple envelope</td>\n",
       "      <td>Low value</td>\n",
       "    </tr>\n",
       "    <tr>\n",
       "      <th>freq</th>\n",
       "      <td>5968</td>\n",
       "      <td>5191</td>\n",
       "      <td>915</td>\n",
       "      <td>2001</td>\n",
       "      <td>3203</td>\n",
       "      <td>6026</td>\n",
       "      <td>1523</td>\n",
       "      <td>48</td>\n",
       "      <td>8233</td>\n",
       "    </tr>\n",
       "  </tbody>\n",
       "</table>\n",
       "</div>"
      ],
      "text/plain": [
       "             Ship Mode   Segment           City       State Region  \\\n",
       "count             9994      9994           9994        9994   9994   \n",
       "unique               4         3            531          49      4   \n",
       "top     Standard Class  Consumer  New York City  California   West   \n",
       "freq              5968      5191            915        2001   3203   \n",
       "\n",
       "               Category Sub-Category     Product Name Sales Category  \n",
       "count              9994         9994             9994           9994  \n",
       "unique                3           17             1850              3  \n",
       "top     Office Supplies      Binders  Staple envelope      Low value  \n",
       "freq               6026         1523               48           8233  "
      ]
     },
     "execution_count": 24,
     "metadata": {},
     "output_type": "execute_result"
    }
   ],
   "source": [
    "# This describes the non-numerical columns:  \n",
    "\n",
    "storedf.describe(include=[object])\n",
    "\n",
    "# At a glance, there are 49 states, 4 regions and 531 cities included.\n",
    "# The top sales are in New York City and the State of California.\n",
    "# There are 4 unique ship modes and the  top ship mode is the standard class and the top type of customer is a consumer.\n",
    "# The top category is office supplies and the top sales category is of a low value."
   ]
  },
  {
   "cell_type": "code",
   "execution_count": 25,
   "metadata": {},
   "outputs": [
    {
     "name": "stdout",
     "output_type": "stream",
     "text": [
      "Order Date               0\n",
      "Ship Date                0\n",
      "Order Processing Days    0\n",
      "Month                    0\n",
      "Year                     0\n",
      "Ship Mode                0\n",
      "Segment                  0\n",
      "City                     0\n",
      "State                    0\n",
      "Region                   0\n",
      "Category                 0\n",
      "Sub-Category             0\n",
      "Product Name             0\n",
      "Sales                    0\n",
      "Quantity                 0\n",
      "SP per unit              0\n",
      "Discount                 0\n",
      "Profit                   0\n",
      "Profit Margin (%)        0\n",
      "Sales Category           0\n",
      "dtype: int64\n"
     ]
    }
   ],
   "source": [
    "# This checks if there are any blank fields. All columns seem to have data, there are no missing fields.\n",
    "\n",
    "print(storedf.isnull().sum())\n"
   ]
  },
  {
   "cell_type": "code",
   "execution_count": 26,
   "metadata": {},
   "outputs": [
    {
     "data": {
      "text/plain": [
       "Category\n",
       "Office Supplies    6026\n",
       "Furniture          2121\n",
       "Technology         1847\n",
       "Name: count, dtype: int64"
      ]
     },
     "execution_count": 26,
     "metadata": {},
     "output_type": "execute_result"
    }
   ],
   "source": [
    "# These can be used to get the value counts of different columns:  \n",
    "storedf[\"Category\"].value_counts()\n",
    "# This shows that the most lines of sales are office supplies."
   ]
  },
  {
   "cell_type": "code",
   "execution_count": 27,
   "metadata": {},
   "outputs": [
    {
     "data": {
      "text/plain": [
       "Sub-Category\n",
       "Binders        1523\n",
       "Paper          1370\n",
       "Furnishings     957\n",
       "Phones          889\n",
       "Storage         846\n",
       "Art             796\n",
       "Accessories     775\n",
       "Chairs          617\n",
       "Appliances      466\n",
       "Labels          364\n",
       "Tables          319\n",
       "Envelopes       254\n",
       "Bookcases       228\n",
       "Fasteners       217\n",
       "Supplies        190\n",
       "Machines        115\n",
       "Copiers          68\n",
       "Name: count, dtype: int64"
      ]
     },
     "execution_count": 27,
     "metadata": {},
     "output_type": "execute_result"
    }
   ],
   "source": [
    "# This can be used to calculate the number in each sub-category:  \n",
    " \n",
    "storedf[\"Sub-Category\"].value_counts()\n",
    "\n",
    "# This shows that the most sales are on binders and the least sales are copiers"
   ]
  },
  {
   "cell_type": "code",
   "execution_count": null,
   "metadata": {},
   "outputs": [
    {
     "name": "stdout",
     "output_type": "stream",
     "text": [
      "                                          Product Name  total_sales  \\\n",
      "404              Canon imageCLASS 2200 Advanced Copier    61,599.82   \n",
      "650  Fellowes PB500 Electric Punch Plastic Comb Bin...    27,453.38   \n",
      "444  Cisco TelePresence System EX90 Videoconferenci...    22,638.48   \n",
      "786       HON 5400 Series Task Chairs for Big and Tall    21,870.58   \n",
      "686         GBC DocuBind TL300 Electric Binding System    19,823.48   \n",
      "\n",
      "     total_profit  \n",
      "404     25,199.93  \n",
      "650      7,753.04  \n",
      "444     -1,811.08  \n",
      "786          0.00  \n",
      "686      2,233.51  \n"
     ]
    }
   ],
   "source": [
    "# Next I will look at the top 5 products by name of product.\n",
    "groupproduct = storedf.groupby('Product Name').agg(total_sales=('Sales', 'sum'), total_profit=('Profit', 'sum')).reset_index()\n",
    "top_5_products = groupproduct.sort_values(by='total_sales', ascending=False).head(5)\n",
    "print(top_5_products[['Product Name', 'total_sales', 'total_profit']])\n",
    "\n",
    "# This shows us that the Canon copier has the highest sales and a decent profit.\n",
    "# On the other hand the Cisco Telepresence System have high sales but a negative margin.\n",
    "# The Hon 5400 Series Task Chairs appeaar to be sold at cost as there is no profit."
   ]
  },
  {
   "cell_type": "code",
   "execution_count": 31,
   "metadata": {},
   "outputs": [
    {
     "name": "stdout",
     "output_type": "stream",
     "text": [
      "          Category  total_sales  total_profit\n",
      "2       Technology   836,154.03    145,454.95\n",
      "0        Furniture   741,999.80     18,451.27\n",
      "1  Office Supplies   719,047.03    122,490.80\n"
     ]
    }
   ],
   "source": [
    "# Next I will look at the top Sales Categories\n",
    "groupproduct = storedf.groupby('Category').agg(total_sales=('Sales', 'sum'), total_profit=('Profit', 'sum')).reset_index()\n",
    "top_categories = groupproduct.sort_values(by='total_sales', ascending=False).head(3)\n",
    "print(top_categories[['Category', 'total_sales', 'total_profit']])\n",
    "# Technology has the highest sales and the highest profit.  \n",
    "# Furniture is the second highest sales category but has a low profit margin.   \n",
    "\n"
   ]
  },
  {
   "cell_type": "code",
   "execution_count": 38,
   "metadata": {},
   "outputs": [
    {
     "name": "stdout",
     "output_type": "stream",
     "text": [
      "   Sub-Category  total_sales  total_profit\n",
      "13       Phones   330,007.05     44,515.73\n",
      "5        Chairs   328,449.10     26,590.17\n",
      "14      Storage   223,843.61     21,278.83\n",
      "16       Tables   206,965.53    -17,725.48\n",
      "3       Binders   203,412.73     30,221.76\n",
      "11     Machines   189,238.63      3,384.76\n",
      "0   Accessories   167,380.32     41,936.64\n",
      "6       Copiers   149,528.03     55,617.82\n",
      "4     Bookcases   114,880.00     -3,472.56\n",
      "1    Appliances   107,532.16     18,138.01\n"
     ]
    }
   ],
   "source": [
    "# Next I will look at the top Sales Sub-Categories\n",
    "groupproduct = storedf.groupby('Sub-Category').agg(total_sales=('Sales', 'sum'), total_profit=('Profit', 'sum')).reset_index()\n",
    "top_sub_categories = groupproduct.sort_values(by='total_sales', ascending=False).head(10)\n",
    "print(top_sub_categories[['Sub-Category', 'total_sales', 'total_profit']])\n",
    "\n",
    "# Phones are the highest sales sub-category and have a good profit margin \n",
    "# Copiers have a high sales value and a high profit margin.  \n",
    "# Note that tables and bookcases have a reasonable sales value but a negative margin which would tie in with the furniture category above, this could indicate that some of these negative margin items are bringing down the overall profit.  "
   ]
  },
  {
   "cell_type": "markdown",
   "metadata": {},
   "source": [
    "## Research\n",
    "\n",
    "1. [Datetime](https://www.statology.org/convert-columns-to-datetime-pandas/) - Check to see how to use datetime function to convert dates so they can be used for analysis.  \n",
    "2. [Chardet](https://stackoverflow.com/questions/54389780/using-chardet-to-detect-encoding)The file looked okay but there may have been unreadable characters, meaning the file was encoded with one format and your application is trying to read it using a different encoding format.  \n",
    "3. [Adding Columns](https://realpython.com/pandas-dataframe/#inserting-and-deleting-columns) - adding a column to my file. I used this tutorial to add some columns relevant to my analysis.  \n",
    "4. [Datetime](https://stackoverflow.com/questions/69375868/extract-month-from-datetime-column-in-pandas-dataframe) - extracting a month from the order date.  \n",
    "5. [Adding Columns](https://stackoverflow.com/questions/59642338/creating-new-column-based-on-condition-on-other-column-in-pandas-dataframe) - Adding a column based on data in another column, in this case, using the Selling price per unit column, and categorising the sales by value.  \n",
    "6. [Describe](https://www.khanacademy.org/math/statistics-probability/summarizing-quantitative-data/percentiles/a/percentiles-intro) - I used this to help understand the different columns in the describe command.\n",
    "7. [Pre-processing Data](https://www.kdnuggets.com/7-steps-to-mastering-data-cleaning-with-python-and-pandas) - reviewing and cleaning data.\n",
    "8. [Regex](https://stackoverflow.com/questions/40121822/extracting-year-from-string-in-python) - I checked if I could use an example to extract the year and enter it in a different column but as I already converted the columns to datetime, it made more sense to extract it using dt.year.  \n",
    "9. [Groupby](https://www.geeksforgeeks.org/python-pandas-dataframe-groupby/) - using groupby function to calculate top sales products and other categories."
   ]
  }
 ],
 "metadata": {
  "kernelspec": {
   "display_name": "base",
   "language": "python",
   "name": "python3"
  },
  "language_info": {
   "codemirror_mode": {
    "name": "ipython",
    "version": 3
   },
   "file_extension": ".py",
   "mimetype": "text/x-python",
   "name": "python",
   "nbconvert_exporter": "python",
   "pygments_lexer": "ipython3",
   "version": "3.12.4"
  }
 },
 "nbformat": 4,
 "nbformat_minor": 2
}
