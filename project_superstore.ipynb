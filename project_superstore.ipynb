{
 "cells": [
  {
   "cell_type": "markdown",
   "metadata": {},
   "source": [
    "# Programming for Data Analytics in the Higher Diploma in Science in Data Analytics.\n",
    "\n",
    "## Project_Superstore\n",
    "\n",
    "**by Grainne Boyle**\n",
    "\n",
    "This notebook contains a project that demonstrates what I have learned in this module."
   ]
  },
  {
   "cell_type": "code",
   "execution_count": 1,
   "metadata": {},
   "outputs": [],
   "source": [
    "import pandas as pd \n",
    "import matplotlib.pyplot as plt\n",
    "import numpy as np\n",
    "import seaborn as sns\n",
    "import datetime\n",
    "#To ignore warnings, re: the figure layout changes, we import the warnings module.  \n",
    "import warnings\n",
    "warnings.filterwarnings('ignore')\n"
   ]
  },
  {
   "cell_type": "code",
   "execution_count": 2,
   "metadata": {},
   "outputs": [],
   "source": [
    "# I had difficulty reading in the file, I was getting an error. I used chardet, a library that can detect file encodings.\n",
    "\n",
    "#The file looked okay but there may have been unreadable characters, meaning the file was encoded with one format and your application is trying to read it using a different encoding format.\n",
    "import chardet  # This imports a library that can detect file encodings\n",
    "\n",
    "# Opens your file in binary mode ('rb') to read the raw bytes\n",
    "with open('sample_superstore.csv', 'rb') as file:\n",
    "    raw_data = file.read()  # Reads the entire file as raw bytes\n",
    "    result = chardet.detect(raw_data)  # Analyzes the bytes to guess the encoding\n",
    "    encoding = result['encoding']  # Gets the detected encoding type\n",
    "    \n",
    "# Uses the detected encoding to read the CSV file correctly\n",
    "storedf = pd.read_csv('sample_superstore.csv', encoding=encoding)"
   ]
  },
  {
   "cell_type": "code",
   "execution_count": 3,
   "metadata": {},
   "outputs": [
    {
     "name": "stdout",
     "output_type": "stream",
     "text": [
      "   Row ID        Order ID  Order Date   Ship Date       Ship Mode Customer ID  \\\n",
      "0       1  CA-2016-152156   11/8/2016  11/11/2016    Second Class    CG-12520   \n",
      "1       2  CA-2016-152156   11/8/2016  11/11/2016    Second Class    CG-12520   \n",
      "2       3  CA-2016-138688   6/12/2016   6/16/2016    Second Class    DV-13045   \n",
      "3       4  US-2015-108966  10/11/2015  10/18/2015  Standard Class    SO-20335   \n",
      "4       5  US-2015-108966  10/11/2015  10/18/2015  Standard Class    SO-20335   \n",
      "\n",
      "     Customer Name    Segment        Country             City  ...  \\\n",
      "0      Claire Gute   Consumer  United States        Henderson  ...   \n",
      "1      Claire Gute   Consumer  United States        Henderson  ...   \n",
      "2  Darrin Van Huff  Corporate  United States      Los Angeles  ...   \n",
      "3   Sean O'Donnell   Consumer  United States  Fort Lauderdale  ...   \n",
      "4   Sean O'Donnell   Consumer  United States  Fort Lauderdale  ...   \n",
      "\n",
      "  Postal Code  Region       Product ID         Category Sub-Category  \\\n",
      "0       42420   South  FUR-BO-10001798        Furniture    Bookcases   \n",
      "1       42420   South  FUR-CH-10000454        Furniture       Chairs   \n",
      "2       90036    West  OFF-LA-10000240  Office Supplies       Labels   \n",
      "3       33311   South  FUR-TA-10000577        Furniture       Tables   \n",
      "4       33311   South  OFF-ST-10000760  Office Supplies      Storage   \n",
      "\n",
      "                                        Product Name     Sales  Quantity  \\\n",
      "0                  Bush Somerset Collection Bookcase  261.9600         2   \n",
      "1  Hon Deluxe Fabric Upholstered Stacking Chairs,...  731.9400         3   \n",
      "2  Self-Adhesive Address Labels for Typewriters b...   14.6200         2   \n",
      "3      Bretford CR4500 Series Slim Rectangular Table  957.5775         5   \n",
      "4                     Eldon Fold 'N Roll Cart System   22.3680         2   \n",
      "\n",
      "   Discount    Profit  \n",
      "0      0.00   41.9136  \n",
      "1      0.00  219.5820  \n",
      "2      0.00    6.8714  \n",
      "3      0.45 -383.0310  \n",
      "4      0.20    2.5164  \n",
      "\n",
      "[5 rows x 21 columns]\n"
     ]
    }
   ],
   "source": [
    "print(storedf.head())"
   ]
  },
  {
   "cell_type": "code",
   "execution_count": 4,
   "metadata": {},
   "outputs": [],
   "source": [
    "# Change the columns to datetime\n",
    "storedf['Order Date'] = pd.to_datetime(storedf['Order Date'], format='%m/%d/%Y')\n",
    "storedf['Ship Date'] = pd.to_datetime(storedf['Ship Date'], format='%m/%d/%Y') "
   ]
  },
  {
   "cell_type": "code",
   "execution_count": 5,
   "metadata": {},
   "outputs": [],
   "source": [
    "# From viewing the data in excel, I decided to remove the following columns as there was either too much detail to analyse, e.g Customer ID or not enough varied detail , e.g Country is only United States.  \n",
    "storedf = storedf.drop(columns=['Row ID', 'Order ID', 'Customer ID', 'Customer Name', 'Country', 'Postal Code', 'Product ID', 'Product Name'])"
   ]
  },
  {
   "cell_type": "code",
   "execution_count": 6,
   "metadata": {},
   "outputs": [],
   "source": [
    "# I added some columns to broaden my analysis:\n",
    "\n",
    "# This added a column that calculates the time taken to process the order, how many days after the order was taken before it shipped. \n",
    "storedf.insert(loc=2, column='Order Processing Days', value=(storedf['Ship Date'] - storedf['Order Date']).dt.days)\n",
    "\n",
    "# This enters a column that shows the month only so I can see if the ire are higher or lower ssale in certain months.\n",
    "\n",
    "storedf.insert(loc=3, column='Month', value=storedf['Order Date'].dt.month)\n",
    "\n",
    "# This enters a column that shows the gross margin as a percentage of sales.\n",
    "\n",
    "storedf['Profit Margin (%)'] = (storedf['Profit'] / storedf['Sales']) * 100\n",
    "\n",
    "# Note - I am assuming the sales figure is after the discount has been given. \n",
    "# This enters a column showing the sales price per unit(assuming after the discount)\n",
    "\n",
    "storedf.insert(loc=13, column='SP per unit', value= (storedf['Sales'] / storedf['Quantity']))\n",
    "\n",
    "# I am creating a function to create the final column. This column will classify the sales price per unit into a low,medium or high value category.  \n",
    "def sales_cat(value):\n",
    "    if value < 100:\n",
    "        return \"Low value\"\n",
    "    elif value > 1000:\n",
    "        return \"High value\"\n",
    "    else:\n",
    "        return \"Medium value\"\n",
    "    \n",
    "storedf['Sales Category'] = storedf['SP per unit'].apply(sales_cat)\n",
    "\n",
    "\n",
    "\n"
   ]
  },
  {
   "cell_type": "code",
   "execution_count": 7,
   "metadata": {},
   "outputs": [
    {
     "name": "stdout",
     "output_type": "stream",
     "text": [
      "  Order Date  Ship Date  Order Processing Days  Month       Ship Mode  \\\n",
      "0 2016-11-08 2016-11-11                      3     11    Second Class   \n",
      "1 2016-11-08 2016-11-11                      3     11    Second Class   \n",
      "2 2016-06-12 2016-06-16                      4      6    Second Class   \n",
      "3 2015-10-11 2015-10-18                      7     10  Standard Class   \n",
      "4 2015-10-11 2015-10-18                      7     10  Standard Class   \n",
      "\n",
      "     Segment             City       State Region         Category  \\\n",
      "0   Consumer        Henderson    Kentucky  South        Furniture   \n",
      "1   Consumer        Henderson    Kentucky  South        Furniture   \n",
      "2  Corporate      Los Angeles  California   West  Office Supplies   \n",
      "3   Consumer  Fort Lauderdale     Florida  South        Furniture   \n",
      "4   Consumer  Fort Lauderdale     Florida  South  Office Supplies   \n",
      "\n",
      "  Sub-Category     Sales  Quantity  SP per unit  Discount    Profit  \\\n",
      "0    Bookcases  261.9600         2     130.9800      0.00   41.9136   \n",
      "1       Chairs  731.9400         3     243.9800      0.00  219.5820   \n",
      "2       Labels   14.6200         2       7.3100      0.00    6.8714   \n",
      "3       Tables  957.5775         5     191.5155      0.45 -383.0310   \n",
      "4      Storage   22.3680         2      11.1840      0.20    2.5164   \n",
      "\n",
      "   Profit Margin (%) Sales Category  \n",
      "0              16.00   Medium value  \n",
      "1              30.00   Medium value  \n",
      "2              47.00      Low value  \n",
      "3             -40.00   Medium value  \n",
      "4              11.25      Low value  \n"
     ]
    }
   ],
   "source": [
    "print(storedf.head())"
   ]
  },
  {
   "cell_type": "code",
   "execution_count": 8,
   "metadata": {},
   "outputs": [],
   "source": [
    "## Research\n",
    "\n",
    "#[Datetime](https://www.statology.org/convert-columns-to-datetime-pandas/) - Check to see how to use datetime function to convert dates so they can be used for analysis.  \n",
    "#[Chardet](https://stackoverflow.com/questions/54389780/using-chardet-to-detect-encoding)The file looked okay but there may have been unreadable characters, meaning the file was encoded with one format and your application is trying to read it using a different encoding format.  \n",
    "#[Adding Columns](https://realpython.com/pandas-dataframe/#inserting-and-deleting-columns) - adding a column to my file. I used this tutorial to add some columns relevant to my analysis.  \n",
    "#[Datetime](https://stackoverflow.com/questions/69375868/extract-month-from-datetime-column-in-pandas-dataframe) - extracting a month from the order date.  \n",
    "#[Adding Columns](https://stackoverflow.com/questions/59642338/creating-new-column-based-on-condition-on-other-column-in-pandas-dataframe) - Adding a column based on data in another column, in this case, using the Selling price per unit column, and categorising the sales by value.  "
   ]
  }
 ],
 "metadata": {
  "kernelspec": {
   "display_name": "base",
   "language": "python",
   "name": "python3"
  },
  "language_info": {
   "codemirror_mode": {
    "name": "ipython",
    "version": 3
   },
   "file_extension": ".py",
   "mimetype": "text/x-python",
   "name": "python",
   "nbconvert_exporter": "python",
   "pygments_lexer": "ipython3",
   "version": "3.12.4"
  }
 },
 "nbformat": 4,
 "nbformat_minor": 2
}
