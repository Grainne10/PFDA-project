{
 "cells": [
  {
   "cell_type": "markdown",
   "metadata": {},
   "source": [
    "# Programming for Data Analytics in the Higher Diploma in Science in Data Analytics.\n",
    "\n",
    "## Project_Superstore\n",
    "\n",
    "**by Grainne Boyle**\n",
    "\n",
    "This notebook contains a project that demonstrates what I have learned in this module."
   ]
  },
  {
   "cell_type": "code",
   "execution_count": 2,
   "metadata": {},
   "outputs": [],
   "source": [
    "import pandas as pd \n",
    "import matplotlib.pyplot as plt\n",
    "import numpy as np\n",
    "import seaborn as sns\n",
    "#To ignore warnings, re: the figure layout changes, we import the warnings module.  \n",
    "import warnings\n",
    "warnings.filterwarnings('ignore')\n"
   ]
  },
  {
   "cell_type": "code",
   "execution_count": 6,
   "metadata": {},
   "outputs": [],
   "source": [
    "# I had difficulty reading in the file, I was getting an error. I used chardet, a library that can detect file encodings.\n",
    "\n",
    "import chardet  # This imports a library that can detect file encodings\n",
    "\n",
    "# Opens your file in binary mode ('rb') to read the raw bytes\n",
    "with open('sample_superstore.csv', 'rb') as file:\n",
    "    raw_data = file.read()  # Reads the entire file as raw bytes\n",
    "    result = chardet.detect(raw_data)  # Analyzes the bytes to guess the encoding\n",
    "    encoding = result['encoding']  # Gets the detected encoding type\n",
    "    \n",
    "# Uses the detected encoding to read the CSV file correctly\n",
    "storedf = pd.read_csv('sample_superstore.csv', encoding=encoding)"
   ]
  },
  {
   "cell_type": "code",
   "execution_count": 7,
   "metadata": {},
   "outputs": [],
   "source": [
    "# From viewing the data in excel, I decided to remove the following columns as there was either too much detail to analyse, e.g Customer ID or not enough varied detail , e.g Country is only United States.  \n",
    "storedf = storedf.drop(columns=['Row ID', 'Order ID', 'Customer ID', 'Customer Name', 'Country', 'Postal Code', 'Product ID', 'Product Name'])"
   ]
  },
  {
   "cell_type": "code",
   "execution_count": 8,
   "metadata": {},
   "outputs": [
    {
     "name": "stdout",
     "output_type": "stream",
     "text": [
      "   Order Date   Ship Date       Ship Mode    Segment             City  \\\n",
      "0   11/8/2016  11/11/2016    Second Class   Consumer        Henderson   \n",
      "1   11/8/2016  11/11/2016    Second Class   Consumer        Henderson   \n",
      "2   6/12/2016   6/16/2016    Second Class  Corporate      Los Angeles   \n",
      "3  10/11/2015  10/18/2015  Standard Class   Consumer  Fort Lauderdale   \n",
      "4  10/11/2015  10/18/2015  Standard Class   Consumer  Fort Lauderdale   \n",
      "\n",
      "        State Region         Category Sub-Category     Sales  Quantity  \\\n",
      "0    Kentucky  South        Furniture    Bookcases  261.9600         2   \n",
      "1    Kentucky  South        Furniture       Chairs  731.9400         3   \n",
      "2  California   West  Office Supplies       Labels   14.6200         2   \n",
      "3     Florida  South        Furniture       Tables  957.5775         5   \n",
      "4     Florida  South  Office Supplies      Storage   22.3680         2   \n",
      "\n",
      "   Discount    Profit  \n",
      "0      0.00   41.9136  \n",
      "1      0.00  219.5820  \n",
      "2      0.00    6.8714  \n",
      "3      0.45 -383.0310  \n",
      "4      0.20    2.5164  \n"
     ]
    }
   ],
   "source": [
    "print(storedf.head())\n"
   ]
  }
 ],
 "metadata": {
  "kernelspec": {
   "display_name": "base",
   "language": "python",
   "name": "python3"
  },
  "language_info": {
   "codemirror_mode": {
    "name": "ipython",
    "version": 3
   },
   "file_extension": ".py",
   "mimetype": "text/x-python",
   "name": "python",
   "nbconvert_exporter": "python",
   "pygments_lexer": "ipython3",
   "version": "3.12.4"
  }
 },
 "nbformat": 4,
 "nbformat_minor": 2
}
